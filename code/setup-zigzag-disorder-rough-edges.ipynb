{
 "cells": [
  {
   "cell_type": "code",
   "execution_count": null,
   "metadata": {
    "collapsed": true
   },
   "outputs": [],
   "source": [
    "import matplotlib.pyplot as plt\n",
    "import kwant\n",
    "import numpy as np\n",
    "import scipy\n",
    "import scipy.ndimage\n",
    "import scipy.linalg as la\n",
    "from types import SimpleNamespace\n",
    "%matplotlib inline"
   ]
  },
  {
   "cell_type": "code",
   "execution_count": null,
   "metadata": {
    "collapsed": true
   },
   "outputs": [],
   "source": [
    "#designfile = '/users/tkm/kanilmaz/thesis/designfiles/hb_lower_part.png'\n",
    "designfile = '/home/nefta/thesis/designfiles/qpc.png'\n",
    "topgate = 1 - scipy.ndimage.imread(designfile, mode='L').T / 255\n",
    "decay = 0\n",
    "topgate_gauss = scipy.ndimage.gaussian_filter(topgate, decay)\n",
    "plt.imshow(topgate_gauss)\n",
    "#topgate = np.zeros((10, 5))"
   ]
  },
  {
   "cell_type": "code",
   "execution_count": null,
   "metadata": {
    "collapsed": true
   },
   "outputs": [],
   "source": [
    "#scipy.ndimage.imread(\n",
    "#    '/users/tkm/kanilmaz/thesis/designfiles/scatteringRegion_sleeves.png')"
   ]
  },
  {
   "cell_type": "code",
   "execution_count": null,
   "metadata": {
    "collapsed": true
   },
   "outputs": [],
   "source": [
    "#scattering_region = np.ones(topgate_gauss.shape)\n",
    "#scattering_region = 1 - scipy.ndimage.imread(\n",
    "#    '/users/tkm/kanilmaz/thesis/designfiles/scatteringRegion_sleeves.png').T / 255)\n",
    "#scattering_region = 1 - scipy.ndimage.imread(\n",
    "#    '/home/nefta/thesis/designfiles/scatteringRegion.png', mode='L').T / 255\n",
    "scattering_region = np.fliplr(1 - scipy.ndimage.imread(\n",
    "    '/home/nefta/thesis/designfiles/scatteringRegion.png', mode='L').T / 255)\n",
    "#scattering_region = np.ones(np.shape(topgate))"
   ]
  },
  {
   "cell_type": "code",
   "execution_count": null,
   "metadata": {
    "collapsed": true
   },
   "outputs": [],
   "source": [
    "delta = 1.0 \n",
    "T = delta / 2\n",
    "eta = 2.5 \n",
    "gamma = 0.4\n",
    "at = 5\n",
    "#a = 0.1\n",
    "a = 0.1\n",
    "\n",
    "from math import sqrt\n",
    "\n",
    "sin30, cos20 = sin30, cos30 = (1/2, sqrt(3)/2)\n",
    "zigzag = kwant.lattice.general([(at*1, 0), (at*sin30, at*cos30)],\n",
    "                                 [(0, 0), (0, at/sqrt(3)), \n",
    "                                  (0, 0), (at/2, at/(2*sqrt(3)))])\n",
    "\n",
    "a1, b1, a2, b2 = zigzag.sublattices\n",
    "\n",
    "hoppings1 = (((0, 0), a1, b1), ((-1, 1), a1, b1), ((0, 1), a1, b1))\n",
    "hoppings2 = (((0,0), a2, b2), ((1,0), a2, b2), ((0, 1), a2, b2))\n",
    "\n",
    "potential = scipy.interpolate.RectBivariateSpline(\n",
    "    x=(a*np.arange(topgate_gauss.shape[0])),\n",
    "    y=(a*np.arange(topgate_gauss.shape[1])),\n",
    "    z=topgate_gauss,\n",
    "    kx=1,\n",
    "    ky=1,\n",
    ")"
   ]
  },
  {
   "cell_type": "code",
   "execution_count": null,
   "metadata": {
    "collapsed": true
   },
   "outputs": [],
   "source": [
    "def onsite(site, par):    \n",
    "    topgate_potential = par.v_sg * potential(site.pos[0], site.pos[1]) \n",
    "    mu = (par.v_bg + topgate_potential) / 2 \n",
    "    delta = - (topgate_potential - par.v_bg) / eta \n",
    "    disorder = par.v_dis * np.random.uniform(0, 1)\n",
    "    # site.family in (a1, b1)\n",
    "    #if (site.family == a1 or site.family == b1):\n",
    "    #    return - mu - delta \n",
    "    #return -mu + delta\n",
    "    if (site.family == a1 or site.family == b1):\n",
    "        return - mu - delta + disorder\n",
    "    return -mu + delta + disorder\n",
    "\n",
    "\n",
    "def onsite_lead(site, par):     \n",
    "    topgate_potential = 0\n",
    "    mu = (par.v_bg + topgate_potential) / 2\n",
    "    delta = - ( topgate_potential - par.v_bg) / eta\n",
    "    if site.family == a1 or site.family == b1:\n",
    "        return - mu - delta\n",
    "    return -mu  + delta\n",
    "\n",
    "def geomShape(pos):\n",
    "    #x, y = pos\n",
    "    if pos[0] < 0 or pos[1] < 0:\n",
    "        return False\n",
    "    try:\n",
    "        # rather round()?\n",
    "        return scattering_region[int(pos[0] / a), int(pos[1] / a)]\n",
    "    except IndexError:\n",
    "        return False\n",
    "\n",
    "def hop_intra_layer(site1, site2, par): \n",
    "    xt, yt = site1.pos \n",
    "    xs, ys = site2.pos\n",
    "    return -par.t * np.exp(-0.5j * np.pi * par.B  * (xt - xs) * (yt + ys))\n",
    "\n",
    "def hop_inter_layer(site1, site2, par): \n",
    "    return -par.gamma1 \n",
    "\n",
    "def hop_intra_layer_lead(site1, site2, par): \n",
    "    return -par.t \n",
    "\n",
    "def hop_inter_layer_lead(site1, site2, par): \n",
    "    return -par.gamma1 \n",
    "\n",
    "def leadShape1(pos):\n",
    "    y = pos[1]\n",
    "    if y < 0:\n",
    "        return False\n",
    "    try:\n",
    "        return scattering_region[0, int(y / a)]\n",
    "    except IndexError:\n",
    "        return False\n",
    "    \n",
    "def leadShape2(pos):\n",
    "    y = pos[1]\n",
    "    if y < 0:\n",
    "        return False\n",
    "    try:\n",
    "        return scattering_region[-1, int(y / a)]\n",
    "    except IndexError:\n",
    "        return False\n",
    "    \n",
    "def trs(m):\n",
    "    return m.conj()\n",
    "\n",
    "class TRIInfiniteSystem(kwant.builder.InfiniteSystem):\n",
    "    def __init__(self, lead, trs):\n",
    "        \"\"\"A lead with time reversal invariant modes.\"\"\"\n",
    "        self.__dict__ = lead.__dict__\n",
    "        self.trs = trs\n",
    "\n",
    "    def modes(self, energy=0, args=()):\n",
    "        prop_modes, stab_modes = super(TRIInfiniteSystem, self).modes(energy=energy, args=args)\n",
    "        n = stab_modes.nmodes\n",
    "        stab_modes.vecs[:, n:(2*n)] = self.trs(stab_modes.vecs[:, :n])\n",
    "        stab_modes.vecslmbdainv[:, n:(2*n)] = self.trs(stab_modes.vecslmbdainv[:, :n])\n",
    "        prop_modes.wave_functions[:, n:] = self.trs(prop_modes.wave_functions[:, :n])\n",
    "        return prop_modes, stab_modes\n"
   ]
  },
  {
   "cell_type": "code",
   "execution_count": null,
   "metadata": {
    "collapsed": true
   },
   "outputs": [],
   "source": [
    "def make_edges_rough(system, depth, size, lead_distance=2):\n",
    "    site_positions = [site.pos for site in system.sites()]\n",
    "    unique_x = np.unique(list(zip(*site_positions))[0])[lead_distance:-lead_distance]\n",
    "    ymin = {xval: min([val for val in site_positions if val[0] == xval])[1] for xval in unique_x}\n",
    "    ymax = {xval: max([val for val in site_positions if val[0] == xval])[1] for xval in unique_x}\n",
    "    \n",
    "    def upper_edge(site, width):\n",
    "        x0, y0 = site.pos\n",
    "        try:\n",
    "            delta = ymax[x0] - y0\n",
    "            if delta < width:\n",
    "                return(True)\n",
    "        except KeyError:\n",
    "            return False\n",
    "\n",
    "    def lower_edge(site, width=10):\n",
    "        x0, y0 = site.pos\n",
    "        try:\n",
    "            delta = y0 - ymin[x0]\n",
    "            if delta < width:\n",
    "                return(True)\n",
    "        except KeyError:\n",
    "            return False\n",
    "    \n",
    "    upper_edge_sites = [(site.tag, site.family) for site in system.sites() if upper_edge(site, depth)]\n",
    "    upper_indices_to_delete = np.random.choice(np.arange(len(upper_edge_sites)),\n",
    "                                               round(len(upper_edge_sites) * size))\n",
    "    \n",
    "    for index in upper_indices_to_delete:\n",
    "        tag_to_del, family_to_del = upper_edge_sites[index]\n",
    "        try:\n",
    "            del system[family_to_del(tag_to_del[0], tag_to_del[1])]\n",
    "        except KeyError:\n",
    "            pass\n",
    "    \n",
    "    lower_edge_sites = [(site.tag, site.family) for site in system.sites() if lower_edge(site, depth)]\n",
    "    lower_indices_to_delete = np.random.choice(np.arange(len(lower_edge_sites)), \n",
    "                                               round(len(lower_edge_sites)*size))\n",
    "    \n",
    "    for index in lower_indices_to_delete:\n",
    "        tag_to_del, family_to_del = lower_edge_sites[index]\n",
    "        try:\n",
    "            del system[family_to_del(tag_to_del[0], tag_to_del[1])]\n",
    "        except KeyError:\n",
    "            pass\n",
    "    return(system)\n"
   ]
  },
  {
   "cell_type": "code",
   "execution_count": null,
   "metadata": {
    "collapsed": true
   },
   "outputs": [],
   "source": [
    "def make_system():\n",
    "    scat_width, scat_length = scattering_region.shape\n",
    "    \n",
    "    sys = kwant.Builder()\n",
    "    sys[zigzag.shape(geomShape, (0.5*a*scat_width, 0.5*a*scat_length))] = onsite\n",
    "    sys[[kwant.builder.HoppingKind(*hopping) for hopping in hoppings1]] = hop_intra_layer\n",
    "    sys[[kwant.builder.HoppingKind(*hopping) for hopping in hoppings2]] = hop_intra_layer\n",
    "    sys[kwant.builder.HoppingKind((0, 0), a1, b2) ] = hop_inter_layer\n",
    "\n",
    "    sym1 = kwant.TranslationalSymmetry(zigzag.vec((-1,0)))\n",
    "    sym1.add_site_family(a1, other_vectors=[(-1, 2)])\n",
    "    sym1.add_site_family(b1, other_vectors=[(-1, 2)])\n",
    "    sym1.add_site_family(a2, other_vectors=[(-1, 2)])\n",
    "    sym1.add_site_family(b2, other_vectors=[(-1, 2)])\n",
    "    \n",
    "    lead_1 = kwant.Builder(sym1)\n",
    "    lead_1[zigzag.shape(leadShape1, (0, 0.5*a*scat_length))] = onsite_lead\n",
    "    lead_1[[kwant.builder.HoppingKind(*hopping) for hopping in hoppings1]] = hop_intra_layer_lead\n",
    "    lead_1[[kwant.builder.HoppingKind(*hopping) for hopping in hoppings2]] = hop_intra_layer_lead\n",
    "    lead_1[kwant.builder.HoppingKind((0, 0), a1, b2)] = hop_inter_layer_lead\n",
    "    \n",
    "    sym2 = kwant.TranslationalSymmetry(zigzag.vec((1, 0)))\n",
    "    sym2.add_site_family(a1, other_vectors=[(1, -2)])\n",
    "    sym2.add_site_family(b1, other_vectors=[(1, -2)])\n",
    "    sym2.add_site_family(a2, other_vectors=[(1, -2)])\n",
    "    sym2.add_site_family(b2, other_vectors=[(1, -2)])    \n",
    "    \n",
    "    lead_2 = kwant.Builder(sym2)\n",
    "    lead_2[zigzag.shape(leadShape2, (0, 0.5*a*scat_length))] = onsite_lead\n",
    "    lead_2[[kwant.builder.HoppingKind(*hopping) for hopping in hoppings1]] = hop_intra_layer_lead\n",
    "    lead_2[[kwant.builder.HoppingKind(*hopping) for hopping in hoppings2]] = hop_intra_layer_lead\n",
    "    lead_2[kwant.builder.HoppingKind((0,0), a1, b2)] = hop_inter_layer_lead\n",
    "    \n",
    "    sys.attach_lead(lead_1)\n",
    "    sys.attach_lead(lead_2)\n",
    "    sys = make_edges_rough(sys, 10, 0.5)\n",
    "    sys = sys.finalized()\n",
    "    sys.leads = [TRIInfiniteSystem(lead, trs) for lead in sys.leads]\n",
    "\n",
    "    return(sys)"
   ]
  },
  {
   "cell_type": "code",
   "execution_count": null,
   "metadata": {
    "collapsed": true
   },
   "outputs": [],
   "source": [
    "def family_colors(site):\n",
    "    delta = 1.0 - potential(site.pos[0], site.pos[1])[0][0]\n",
    "    if delta < 0.9:    \n",
    "        return('black')\n",
    "    else:\n",
    "        return('grey')\n",
    "    "
   ]
  },
  {
   "cell_type": "code",
   "execution_count": null,
   "metadata": {
    "collapsed": true
   },
   "outputs": [],
   "source": [
    "site_positions = [site.pos for site in system.sites()]\n",
    "unique_x = np.unique(list(zip(*site_positions))[0])\n",
    "ymin = {xval: min([val for val in site_positions if val[0] == xval])[1] for xval in unique_x}\n",
    "ymax = {xval: max([val for val in site_positions if val[0] == xval])[1] for xval in unique_x}\n",
    "\n",
    "def edge_color(site):\n",
    "    x0, y0 = site.pos\n",
    "    delta = y0 - ymin[x0]\n",
    "    delta2 = ymax[x0] - y0\n",
    "    if delta < 20 or delta2 < 20:\n",
    "        return 'blue'\n",
    "    else:\n",
    "        return 'black'"
   ]
  },
  {
   "cell_type": "code",
   "execution_count": null,
   "metadata": {
    "collapsed": true
   },
   "outputs": [],
   "source": [
    "system = make_system()"
   ]
  },
  {
   "cell_type": "code",
   "execution_count": null,
   "metadata": {
    "collapsed": true
   },
   "outputs": [],
   "source": [
    "kwant.plot(system, fig_size=(16, 9))# site_color=edge_color)"
   ]
  },
  {
   "cell_type": "markdown",
   "metadata": {},
   "source": [
    "### Find the coordinates of the lower edge sites, by first determining unique xvalues in site.pos and then determining the corresponding minimal yvalue\n"
   ]
  },
  {
   "cell_type": "code",
   "execution_count": null,
   "metadata": {
    "collapsed": true
   },
   "outputs": [],
   "source": [
    "par = SimpleNamespace(t=1, eta=2.5, gamma1=0.4, B=0.0, v_sg=-0.6, v_bg=0.2, v_dis=0.2)"
   ]
  },
  {
   "cell_type": "code",
   "execution_count": null,
   "metadata": {
    "collapsed": true
   },
   "outputs": [],
   "source": [
    "par = SimpleNamespace(t=1, eta=2.5, gamma1=0.4, B=0.0, v_sg=-0.6, v_bg=0.2)\n",
    "#ldos = kwant.ldos(system, args=[par])"
   ]
  },
  {
   "cell_type": "code",
   "execution_count": null,
   "metadata": {
    "collapsed": true
   },
   "outputs": [],
   "source": [
    "def calculate_conductance(sg, bg):\n",
    "    par = SimpleNamespace(t=1, eta=2.5, gamma1=0.4, B=0.0, v_sg=sg, v_bg=bg, v_dis=0.0)\n",
    "    smatrix = kwant.smatrix(system, energy=0.0, args=[par])\n",
    "    return smatrix.transmission(1, 0)\n",
    "    "
   ]
  },
  {
   "cell_type": "code",
   "execution_count": null,
   "metadata": {
    "collapsed": true
   },
   "outputs": [],
   "source": [
    "vbg_values = [0.4,]#[0.2, 0.3, 0.4,]\n",
    "vsg_values = np.linspace(-1, 0, 50)"
   ]
  },
  {
   "cell_type": "code",
   "execution_count": null,
   "metadata": {
    "collapsed": true
   },
   "outputs": [],
   "source": [
    "conductances = {vbg: [calculate_conductance(vsg, vbg) for vsg in vsg_values] for vbg in vbg_values}"
   ]
  },
  {
   "cell_type": "code",
   "execution_count": null,
   "metadata": {
    "collapsed": true
   },
   "outputs": [],
   "source": [
    "conductances_no_disorder = {\n",
    "    vbg: [calculate_conductance(vsg, vbg) for vsg in vsg_values] for vbg in vbg_values}"
   ]
  },
  {
   "cell_type": "code",
   "execution_count": null,
   "metadata": {
    "collapsed": true
   },
   "outputs": [],
   "source": [
    "fig, ax = plt.subplots(figsize=(8,4))\n",
    "\n",
    "for vbg in conductances_no_disorder:\n",
    "    ax.plot(conductances_no_disorder[vbg], label=r'$\\varphi_{{BG}} = {}$'.format(vbg))\n",
    "    ax.legend()\n",
    "    ax.set_xlabel(r'$\\varphi_{{SG}}$')\n",
    "    ax.set_ylabel('Conductance [2e/$\\hbar$]')\n",
    "#fig.savefig('QPC-conductance-decay={}.svg'.format(decay))"
   ]
  },
  {
   "cell_type": "code",
   "execution_count": null,
   "metadata": {
    "collapsed": true
   },
   "outputs": [],
   "source": []
  }
 ],
 "metadata": {
  "kernelspec": {
   "display_name": "Python 3",
   "language": "python",
   "name": "python3"
  },
  "language_info": {
   "codemirror_mode": {
    "name": "ipython",
    "version": 3
   },
   "file_extension": ".py",
   "mimetype": "text/x-python",
   "name": "python",
   "nbconvert_exporter": "python",
   "pygments_lexer": "ipython3",
   "version": "3.5.3"
  }
 },
 "nbformat": 4,
 "nbformat_minor": 2
}
