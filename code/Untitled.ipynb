{
 "cells": [
  {
   "cell_type": "code",
   "execution_count": 2,
   "metadata": {
    "collapsed": true
   },
   "outputs": [],
   "source": [
    "import matplotlib\n",
    "matplotlib.use('Agg')\n",
    "import matplotlib.pyplot as plt\n",
    "import numpy as np\n",
    "from scipy.signal import argrelmin\n",
    "\n",
    "import csv\n",
    "import os"
   ]
  },
  {
   "cell_type": "code",
   "execution_count": 3,
   "metadata": {
    "collapsed": true
   },
   "outputs": [],
   "source": [
    "def transform_to_density(b_values, Ic_values, y_values):\n",
    "    W = 360\n",
    "    L = 100\n",
    "    omega = 2 * np.pi / W\n",
    "\n",
    "    phi_values = b_values * W * L\n",
    "    dPhi = phi_values[1] - phi_values[0]\n",
    "    maxPhi = phi_values[-1]\n",
    "\n",
    "    real, imag = Ic_values\n",
    "\n",
    "    Jy_values = []\n",
    "    for y in y_values:\n",
    "        Jy_real = 0\n",
    "        Jy_imag = 0\n",
    "        for k, phi in enumerate(phi_values):\n",
    "            Ic_real = real[k] #Fourier coefficient\n",
    "            Ic_imag = imag[k]\n",
    "            Jy_real += np.cos(np.pi * phi / (2 * maxPhi))**0.5 *(Ic_real * np.cos(omega * phi * y) - Ic_imag * np.sin(omega * phi * y)) * dPhi\n",
    "            Jy_imag += np.cos(np.pi * phi / (2 * maxPhi))**0.5 *(Ic_imag * np.cos(omega * phi * y) + Ic_real * np.sin(omega * phi * y)) * dPhi\n",
    "\n",
    "        Jy_abs = np.sqrt(Jy_real**2 + Jy_imag**2)\n",
    "        Jy_values.append(Jy_abs)\n",
    "    return(Jy_values)\n"
   ]
  },
  {
   "cell_type": "code",
   "execution_count": 4,
   "metadata": {
    "collapsed": true
   },
   "outputs": [],
   "source": [
    "def flip_minima(abs_values, real_values):\n",
    "    main_peak = np.argmax(abs_values)\n",
    "    left_min = [0]\n",
    "    right_min = [main_peak]\n",
    "    for localmin in argrelmin(abs_values, order=2)[0]:\n",
    "        if localmin < main_peak:\n",
    "            left_min.append(localmin)\n",
    "        else:\n",
    "            right_min.append(localmin)\n",
    "    left_min.append(main_peak)\n",
    "    right_min.append(len(abs_values))\n",
    "    left_min_rev = list(reversed(left_min))\n",
    "\n",
    "    osc = []\n",
    "    n = len(left_min)\n",
    "    for i in range(n - 1):\n",
    "        for index in range(left_min_rev[n  - i - 1], left_min_rev[n - i - 2]):\n",
    "            osc.append((-1)**(n - i) * abs(real_values[index]))\n",
    "    for i in range(n - 1):\n",
    "        for index in range(right_min[i], right_min[i+1]):\n",
    "            osc.append((-1)**i * abs(real_values[index]))\n",
    "    return(osc)"
   ]
  },
  {
   "cell_type": "code",
   "execution_count": 5,
   "metadata": {
    "collapsed": true
   },
   "outputs": [],
   "source": [
    "def read_values(filename):\n",
    "    result = []\n",
    "    with open(filename) as csvfile:\n",
    "        reader = csv.reader(csvfile, delimiter=',')\n",
    "        for row in reader:\n",
    "            result.append([float(element) for element in row])\n",
    "    return(result)\n"
   ]
  },
  {
   "cell_type": "code",
   "execution_count": 6,
   "metadata": {},
   "outputs": [],
   "source": [
    "directory = '/users/tkm/kanilmaz/thesis/results/wg3_2/supercurrent/use/'\n",
    "\n",
    "dirpath, dirnames, filenames = list(os.walk(directory))[0]\n"
   ]
  },
  {
   "cell_type": "code",
   "execution_count": 18,
   "metadata": {},
   "outputs": [
    {
     "name": "stdout",
     "output_type": "stream",
     "text": [
      "{'T': ' 0.5', 'nb_points': ' 1000', 'vbg': ' 0.8', 'eta': ' 2.5', 'at': ' 5.0', 'a': ' 0.4', 'vsg': ' -0.2', 'decay': ' 0', 'maxB': ' 0.0001', 'gamma': ' 0.4', 'delta': ' 1.0'}\n",
      "{'T': ' 0.5', 'nb_points': ' 1000', 'vbg': ' 0.8', 'eta': ' 2.5', 'at': ' 5.0', 'a': ' 0.4', 'vsg': ' -0.35', 'decay': ' 0', 'maxB': ' 0.0003', 'gamma': ' 0.4', 'delta': ' 1.0'}\n",
      "{'T': ' 0.5', 'nb_points': ' 1000', 'vbg': ' 0.8', 'eta': ' 2.5', 'at': ' 5.0', 'a': ' 0.4', 'vsg': ' -0.1', 'decay': ' 0', 'maxB': ' 0.0003', 'gamma': ' 0.4', 'delta': ' 1.0'}\n",
      "{'T': ' 0.5', 'nb_points': ' 1000', 'vbg': ' 0.8', 'eta': ' 2.5', 'at': ' 5.0', 'a': ' 0.4', 'vsg': ' -0.4', 'decay': ' 0', 'maxB': ' 0.0001', 'gamma': ' 0.4', 'delta': ' 1.0'}\n",
      "{'T': ' 0.5', 'nb_points': ' 1000', 'vbg': ' 0.8', 'eta': ' 2.5', 'at': ' 5.0', 'a': ' 0.4', 'vsg': ' -0.2', 'decay': ' 0', 'maxB': ' 0.0003', 'gamma': ' 0.4', 'delta': ' 1.0'}\n",
      "{'T': ' 0.5', 'nb_points': ' 1000', 'vbg': ' 0.8', 'eta': ' 2.5', 'at': ' 5.0', 'a': ' 0.4', 'vsg': ' -0.5', 'decay': ' 0', 'maxB': ' 0.0001', 'gamma': ' 0.4', 'delta': ' 1.0'}\n",
      "{'T': ' 0.5', 'nb_points': ' 1000', 'vbg': ' 0.8', 'eta': ' 2.5', 'at': ' 5.0', 'a': ' 0.4', 'vsg': ' -0.3', 'decay': ' 0', 'maxB': ' 0.0003', 'gamma': ' 0.4', 'delta': ' 1.0'}\n",
      "{'T': ' 0.5', 'nb_points': ' 1000', 'vbg': ' 0.8', 'eta': ' 2.5', 'at': ' 5.0', 'a': ' 0.4', 'vsg': ' -0.1', 'decay': ' 0', 'maxB': ' 0.0001', 'gamma': ' 0.4', 'delta': ' 1.0'}\n",
      "{'T': ' 0.5', 'nb_points': ' 1000', 'vbg': ' 0.8', 'eta': ' 2.5', 'at': ' 5.0', 'a': ' 0.4', 'vsg': ' -0.5', 'decay': ' 0', 'maxB': ' 0.0003', 'gamma': ' 0.4', 'delta': ' 1.0'}\n",
      "{'T': ' 0.5', 'nb_points': ' 1000', 'vbg': ' 0.8', 'eta': ' 2.5', 'at': ' 5.0', 'a': ' 0.4', 'vsg': ' -0.6', 'decay': ' 0', 'maxB': ' 0.0003', 'gamma': ' 0.4', 'delta': ' 1.0'}\n",
      "{'T': ' 0.5', 'nb_points': ' 1000', 'vbg': ' 0.8', 'eta': ' 2.5', 'at': ' 5.0', 'a': ' 0.4', 'vsg': ' 0.0', 'decay': ' 0', 'maxB': ' 0.0001', 'gamma': ' 0.4', 'delta': ' 1.0'}\n",
      "{'T': ' 0.5', 'nb_points': ' 1000', 'vbg': ' 0.8', 'eta': ' 2.5', 'at': ' 5.0', 'a': ' 0.4', 'vsg': ' -0.4', 'decay': ' 0', 'maxB': ' 0.0003', 'gamma': ' 0.4', 'delta': ' 1.0'}\n",
      "{'T': ' 0.5', 'nb_points': ' 1000', 'vbg': ' 0.8', 'eta': ' 2.5', 'at': ' 5.0', 'a': ' 0.4', 'vsg': ' -0.45', 'decay': ' 0', 'maxB': ' 0.0003', 'gamma': ' 0.4', 'delta': ' 1.0'}\n",
      "{'T': ' 0.5', 'nb_points': ' 1000', 'vbg': ' 0.8', 'eta': ' 2.5', 'at': ' 5.0', 'a': ' 0.4', 'vsg': ' -0.6', 'decay': ' 0', 'maxB': ' 0.0001', 'gamma': ' 0.4', 'delta': ' 1.0'}\n",
      "{'T': ' 0.5', 'nb_points': ' 1000', 'vbg': ' 0.8', 'eta': ' 2.5', 'at': ' 5.0', 'a': ' 0.4', 'vsg': ' -0.3', 'decay': ' 0', 'maxB': ' 0.0001', 'gamma': ' 0.4', 'delta': ' 1.0'}\n",
      "{'T': ' 0.5', 'nb_points': ' 1000', 'vbg': ' 0.8', 'eta': ' 2.5', 'at': ' 5.0', 'a': ' 0.4', 'vsg': ' -0.25', 'decay': ' 0', 'maxB': ' 0.0003', 'gamma': ' 0.4', 'delta': ' 1.0'}\n"
     ]
    }
   ],
   "source": [
    "for dirname in dirnames:\n",
    "    filename = directory + dirname + '/data.csv'\n",
    "    paramsfile = directory + dirname + '/params.txt'\n",
    "    params = {}\n",
    "    with open(paramsfile) as csvfile:\n",
    "        reader = csv.reader(csvfile)\n",
    "        for row in reader:\n",
    "            params[row[0]] = row[1]\n",
    "    #print(params)\n",
    "    try:\n",
    "        values = read_values(filename)\n",
    "        #print(values)\n",
    "    except:\n",
    "        print('Could not open {}'.format(filename))\n",
    "        continue\n",
    "    abspart, realpart, imagpart = np.asarray(values).T\n",
    "    realpart_flipped = flip_minima(abspart, realpart)\n",
    "\n",
    "    fourier = transform_to_density(b_values, Ic_values, y_values)"
   ]
  },
  {
   "cell_type": "code",
   "execution_count": 19,
   "metadata": {},
   "outputs": [
    {
     "ename": "AttributeError",
     "evalue": "'AxesSubplot' object has no attribute 'se'",
     "output_type": "error",
     "traceback": [
      "\u001b[0;31m---------------------------------------------------------------------------\u001b[0m",
      "\u001b[0;31mAttributeError\u001b[0m                            Traceback (most recent call last)",
      "\u001b[0;32m<ipython-input-19-320bf2797344>\u001b[0m in \u001b[0;36m<module>\u001b[0;34m()\u001b[0m\n\u001b[1;32m      1\u001b[0m \u001b[0mfig\u001b[0m\u001b[0;34m,\u001b[0m \u001b[0max\u001b[0m \u001b[0;34m=\u001b[0m \u001b[0mplt\u001b[0m\u001b[0;34m.\u001b[0m\u001b[0msubplots\u001b[0m\u001b[0;34m(\u001b[0m\u001b[0;34m)\u001b[0m\u001b[0;34m\u001b[0m\u001b[0m\n\u001b[0;32m----> 2\u001b[0;31m \u001b[0max\u001b[0m\u001b[0;34m.\u001b[0m\u001b[0mse\u001b[0m\u001b[0;34m\u001b[0m\u001b[0m\n\u001b[0m",
      "\u001b[0;31mAttributeError\u001b[0m: 'AxesSubplot' object has no attribute 'se'"
     ]
    }
   ],
   "source": [
    "fig, ax = plt.subplots()\n",
    "ax.set_xlim"
   ]
  },
  {
   "cell_type": "code",
   "execution_count": 20,
   "metadata": {},
   "outputs": [
    {
     "data": {
      "text/plain": [
       "['bmh', 'grayscale', 'fivethirtyeight', 'ggplot', 'dark_background']"
      ]
     },
     "execution_count": 20,
     "metadata": {},
     "output_type": "execute_result"
    }
   ],
   "source": [
    "plt.style.available\n"
   ]
  },
  {
   "cell_type": "code",
   "execution_count": 21,
   "metadata": {},
   "outputs": [
    {
     "ename": "ImportError",
     "evalue": "No module named 'seaborn'",
     "output_type": "error",
     "traceback": [
      "\u001b[0;31m---------------------------------------------------------------------------\u001b[0m",
      "\u001b[0;31mImportError\u001b[0m                               Traceback (most recent call last)",
      "\u001b[0;32m<ipython-input-21-ed9806ce3570>\u001b[0m in \u001b[0;36m<module>\u001b[0;34m()\u001b[0m\n\u001b[0;32m----> 1\u001b[0;31m \u001b[0;32mimport\u001b[0m \u001b[0mseaborn\u001b[0m \u001b[0;32mas\u001b[0m \u001b[0msns\u001b[0m\u001b[0;34m\u001b[0m\u001b[0m\n\u001b[0m",
      "\u001b[0;31mImportError\u001b[0m: No module named 'seaborn'"
     ]
    }
   ],
   "source": [
    "import seaborn as sns"
   ]
  },
  {
   "cell_type": "code",
   "execution_count": null,
   "metadata": {
    "collapsed": true
   },
   "outputs": [],
   "source": []
  }
 ],
 "metadata": {
  "kernelspec": {
   "display_name": "Python 3",
   "language": "python",
   "name": "python3"
  },
  "language_info": {
   "codemirror_mode": {
    "name": "ipython",
    "version": 3
   },
   "file_extension": ".py",
   "mimetype": "text/x-python",
   "name": "python",
   "nbconvert_exporter": "python",
   "pygments_lexer": "ipython3",
   "version": "3.4.2"
  }
 },
 "nbformat": 4,
 "nbformat_minor": 2
}
