{
 "cells": [
  {
   "cell_type": "code",
   "execution_count": 40,
   "metadata": {
    "collapsed": true
   },
   "outputs": [],
   "source": [
    "import matplotlib.pyplot as plt\n",
    "%matplotlib inline\n",
    "import numpy as np\n",
    "from scipy.signal import argrelmin\n",
    "\n",
    "import csv\n",
    "import os"
   ]
  },
  {
   "cell_type": "code",
   "execution_count": 3,
   "metadata": {
    "collapsed": true
   },
   "outputs": [],
   "source": [
    "def transform_to_density(b_values, Ic_values, y_values):\n",
    "    W = 360\n",
    "    L = 100\n",
    "    omega = 2 * np.pi / W\n",
    "\n",
    "    phi_values = b_values * W * L\n",
    "    dPhi = phi_values[1] - phi_values[0]\n",
    "    maxPhi = phi_values[-1]\n",
    "\n",
    "    real, imag = Ic_values\n",
    "\n",
    "    Jy_values = []\n",
    "    for y in y_values:\n",
    "        Jy_real = 0\n",
    "        Jy_imag = 0\n",
    "        for k, phi in enumerate(phi_values):\n",
    "            Ic_real = real[k] #Fourier coefficient\n",
    "            Ic_imag = imag[k]\n",
    "            Jy_real += np.cos(np.pi * phi / (2 * maxPhi))**0.5 *(Ic_real * np.cos(omega * phi * y) - Ic_imag * np.sin(omega * phi * y)) * dPhi\n",
    "            Jy_imag += np.cos(np.pi * phi / (2 * maxPhi))**0.5 *(Ic_imag * np.cos(omega * phi * y) + Ic_real * np.sin(omega * phi * y)) * dPhi\n",
    "\n",
    "        Jy_abs = np.sqrt(Jy_real**2 + Jy_imag**2)\n",
    "        Jy_values.append(Jy_abs)\n",
    "    return(Jy_values)\n"
   ]
  },
  {
   "cell_type": "code",
   "execution_count": 4,
   "metadata": {
    "collapsed": true
   },
   "outputs": [],
   "source": [
    "def flip_minima(abs_values, real_values):\n",
    "    main_peak = np.argmax(abs_values)\n",
    "    left_min = [0]\n",
    "    right_min = [main_peak]\n",
    "    for localmin in argrelmin(abs_values, order=2)[0]:\n",
    "        if localmin < main_peak:\n",
    "            left_min.append(localmin)\n",
    "        else:\n",
    "            right_min.append(localmin)\n",
    "    left_min.append(main_peak)\n",
    "    right_min.append(len(abs_values))\n",
    "    left_min_rev = list(reversed(left_min))\n",
    "\n",
    "    osc = []\n",
    "    n = len(left_min)\n",
    "    for i in range(n - 1):\n",
    "        for index in range(left_min_rev[n  - i - 1], left_min_rev[n - i - 2]):\n",
    "            osc.append((-1)**(n - i) * abs(real_values[index]))\n",
    "    for i in range(n - 1):\n",
    "        for index in range(right_min[i], right_min[i+1]):\n",
    "            osc.append((-1)**i * abs(real_values[index]))\n",
    "    return(osc)"
   ]
  },
  {
   "cell_type": "code",
   "execution_count": 5,
   "metadata": {
    "collapsed": true
   },
   "outputs": [],
   "source": [
    "def read_values(filename):\n",
    "    result = []\n",
    "    with open(filename) as csvfile:\n",
    "        reader = csv.reader(csvfile, delimiter=',')\n",
    "        for row in reader:\n",
    "            result.append([float(element) for element in row])\n",
    "    return(result)\n"
   ]
  },
  {
   "cell_type": "code",
   "execution_count": 6,
   "metadata": {
    "collapsed": true
   },
   "outputs": [],
   "source": [
    "directory = '/users/tkm/kanilmaz/thesis/results/wg3_2/supercurrent/use/'\n",
    "\n",
    "dirpath, dirnames, filenames = list(os.walk(directory))[0]\n"
   ]
  },
  {
   "cell_type": "code",
   "execution_count": 71,
   "metadata": {
    "collapsed": true
   },
   "outputs": [],
   "source": [
    "magnetic_field = np.linspace(0, 1, 10)\n",
    "vsg_values = np.linspace(3, 4, 8)"
   ]
  },
  {
   "cell_type": "code",
   "execution_count": 72,
   "metadata": {},
   "outputs": [],
   "source": [
    "result = []\n",
    "for i, b in enumerate(magnetic_field):\n",
    "    for j, v in enumerate(vsg_values):\n",
    "        result.append(((i, j), i + j))\n"
   ]
  },
  {
   "cell_type": "code",
   "execution_count": 73,
   "metadata": {},
   "outputs": [],
   "source": [
    "sorted_res = list(zip(*sorted(result, key=lambda value: value[0])))"
   ]
  },
  {
   "cell_type": "code",
   "execution_count": 78,
   "metadata": {},
   "outputs": [],
   "source": [
    "final = np.split(np.asarray(sorted_res[1]), len(vsg_values))"
   ]
  },
  {
   "cell_type": "code",
   "execution_count": 79,
   "metadata": {},
   "outputs": [
    {
     "data": {
      "text/plain": [
       "[array([0, 1, 2, 3, 4, 5, 6, 7, 1, 2]),\n",
       " array([3, 4, 5, 6, 7, 8, 2, 3, 4, 5]),\n",
       " array([6, 7, 8, 9, 3, 4, 5, 6, 7, 8]),\n",
       " array([ 9, 10,  4,  5,  6,  7,  8,  9, 10, 11]),\n",
       " array([ 5,  6,  7,  8,  9, 10, 11, 12,  6,  7]),\n",
       " array([ 8,  9, 10, 11, 12, 13,  7,  8,  9, 10]),\n",
       " array([11, 12, 13, 14,  8,  9, 10, 11, 12, 13]),\n",
       " array([14, 15,  9, 10, 11, 12, 13, 14, 15, 16])]"
      ]
     },
     "execution_count": 79,
     "metadata": {},
     "output_type": "execute_result"
    }
   ],
   "source": [
    "final"
   ]
  },
  {
   "cell_type": "code",
   "execution_count": 80,
   "metadata": {},
   "outputs": [],
   "source": [
    "\n",
    "y, x = np.meshgrid(magnetic_field, vsg_values)\n",
    "z = final"
   ]
  },
  {
   "cell_type": "code",
   "execution_count": 90,
   "metadata": {},
   "outputs": [
    {
     "data": {
      "text/plain": [
       "<matplotlib.text.Text at 0x7fb95a469128>"
      ]
     },
     "execution_count": 90,
     "metadata": {},
     "output_type": "execute_result"
    },
    {
     "name": "stderr",
     "output_type": "stream",
     "text": [
      "/home/nefta/.virtualenvs/kwant/lib/python3.5/site-packages/matplotlib/font_manager.py:1297: UserWarning: findfont: Font family ['xkcd', 'Humor Sans', 'Comic Sans MS'] not found. Falling back to DejaVu Sans\n",
      "  (prop.get_family(), self.defaultFamily[fontext]))\n"
     ]
    },
    {
     "data": {
      "image/png": "[encoded data removed]",
      "text/plain": [
       "<matplotlib.figure.Figure at 0x7fb95a4c8fd0>"
      ]
     },
     "metadata": {},
     "output_type": "display_data"
    }
   ],
   "source": [
    "plt.pcolor(x, y, z)\n",
    "cb = plt.colorbar()\n",
    "cb.set_label(r'$I_c$')\n",
    "plt.xlabel('B')\n",
    "plt.ylabel(r'$\\phi_{SG}$')"
   ]
  },
  {
   "cell_type": "code",
   "execution_count": null,
   "metadata": {
    "collapsed": true
   },
   "outputs": [],
   "source": []
  }
 ],
 "metadata": {
  "kernelspec": {
   "display_name": "Python 3",
   "language": "python",
   "name": "python3"
  },
  "language_info": {
   "codemirror_mode": {
    "name": "ipython",
    "version": 3
   },
   "file_extension": ".py",
   "mimetype": "text/x-python",
   "name": "python",
   "nbconvert_exporter": "python",
   "pygments_lexer": "ipython3",
   "version": "3.5.3"
  }
 },
 "nbformat": 4,
 "nbformat_minor": 2
}
