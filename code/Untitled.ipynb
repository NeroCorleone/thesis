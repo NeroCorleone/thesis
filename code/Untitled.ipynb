{
 "cells": [
  {
   "cell_type": "code",
   "execution_count": 5,
   "metadata": {
    "collapsed": true
   },
   "outputs": [],
   "source": [
    "import matplotlib\n",
    "matplotlib.use('Agg')\n",
    "import matplotlib.pyplot as plt\n",
    "import kwant\n",
    "import numpy as np\n",
    "import scipy\n",
    "import scipy.ndimage\n",
    "import scipy.linalg as la\n",
    "from types import SimpleNamespace\n",
    "from datetime import datetime\n",
    "import multiprocessing as mp\n",
    "import queue\n",
    "import os\n",
    "from functools import partial\n",
    "import csv\n",
    "%matplotlib inline"
   ]
  },
  {
   "cell_type": "code",
   "execution_count": 2,
   "metadata": {
    "collapsed": true
   },
   "outputs": [],
   "source": [
    "vbg = 0.5 \n",
    "vlead = 0.0\n",
    "nb_points = 11 \n",
    "maxB = 5e-05 \n",
    "magnetic_field = np.linspace(-maxB, maxB, nb_points)\n",
    "vsg_values = np.linspace(-0.1, -0.4, 3)#np.linspace(-0.3, -0.45, 151) \n",
    "maxPhi = np.pi\n",
    "phase = (-np.pi, np.pi) \n",
    "\n",
    "delta = 1.0 \n",
    "T = delta / 2\n",
    "eta = 2.5 \n",
    "gamma = 0.4\n",
    "at = 5.0\n",
    "a = 0.4"
   ]
  },
  {
   "cell_type": "code",
   "execution_count": 16,
   "metadata": {
    "collapsed": true
   },
   "outputs": [],
   "source": [
    "pot_decay = 20\n",
    "path = '/home/nefta/thesis/designfiles/hb_lower_part.png'\n",
    "designfile = '/home/nefta/thesis/designfiles/hb_lower_part.png'\n",
    "topgate = 1 - scipy.ndimage.imread(designfile, mode='L').T / 255\n",
    "topgate_gauss = scipy.ndimage.gaussian_filter(topgate, pot_decay)\n",
    "scattering_region = 1 - scipy.ndimage.imread('/home/nefta/thesis/designfiles/scatteringRegion.png', mode='L').T / 255"
   ]
  },
  {
   "cell_type": "code",
   "execution_count": 17,
   "metadata": {},
   "outputs": [
    {
     "data": {
      "text/plain": [
       "<matplotlib.image.AxesImage at 0x7fc3391a0f28>"
      ]
     },
     "execution_count": 17,
     "metadata": {},
     "output_type": "execute_result"
    },
    {
     "data": {
      "image/png": "[encoded data removed]",
      "text/plain": [
       "<matplotlib.figure.Figure at 0x7fc3391db5c0>"
      ]
     },
     "metadata": {},
     "output_type": "display_data"
    }
   ],
   "source": [
    "plt.imshow(scattering_region)"
   ]
  },
  {
   "cell_type": "code",
   "execution_count": 6,
   "metadata": {},
   "outputs": [
    {
     "data": {
      "text/plain": [
       "<matplotlib.image.AxesImage at 0x7fc3399c22e8>"
      ]
     },
     "execution_count": 6,
     "metadata": {},
     "output_type": "execute_result"
    },
    {
     "data": {
      "image/png": "[encoded data removed]",
      "text/plain": [
       "<matplotlib.figure.Figure at 0x7fc339a94a20>"
      ]
     },
     "metadata": {},
     "output_type": "display_data"
    }
   ],
   "source": [
    "plt.imshow(topgate)"
   ]
  },
  {
   "cell_type": "code",
   "execution_count": 8,
   "metadata": {},
   "outputs": [
    {
     "data": {
      "text/plain": [
       "<matplotlib.image.AxesImage at 0x7fc33924ca90>"
      ]
     },
     "execution_count": 8,
     "metadata": {},
     "output_type": "execute_result"
    },
    {
     "data": {
      "image/png": "[encoded data removed]",
      "text/plain": [
       "<matplotlib.figure.Figure at 0x7fc339a6f6a0>"
      ]
     },
     "metadata": {},
     "output_type": "display_data"
    }
   ],
   "source": [
    "plt.imshow(topgate_gauss)"
   ]
  },
  {
   "cell_type": "code",
   "execution_count": 20,
   "metadata": {
    "collapsed": true
   },
   "outputs": [],
   "source": [
    "bilayer =  kwant.lattice.general([(at*np.sqrt(3)/2, at*1/2), (0, at*1)],\n",
    "                                 [(0, 0.0), (at*1 / (2*np.sqrt(3)), at*1/2), \n",
    "                                  (-at*1/(2*np.sqrt(3)), at*1/2), (0, 0)])\n",
    "a1, b1, a2, b2 = bilayer.sublattices\n",
    "hoppings1 = (((0, 0), a1, b1), ((0, 1), a1, b1), ((1, 0), a1, b1)) \n",
    "hoppings2 = (((0, 0), a2, b2), ((0, -1), a2, b2), ((1, -1), a2, b2))\n",
    "\n",
    "\n",
    "potential = scipy.interpolate.RectBivariateSpline(\n",
    "    x=(a*np.arange(topgate_gauss.shape[0])),\n",
    "    y=(a*np.arange(topgate_gauss.shape[1])),\n",
    "    z=topgate_gauss, \n",
    "    kx=1,\n",
    "    ky=1,\n",
    ")\n",
    "\n",
    "def onsite(site, par):    \n",
    "    topgate_potential = par.v_sg * potential(site.pos[0], site.pos[1]) \n",
    "    mu = (par.v_bg + topgate_potential) / 2 \n",
    "    delta = - (topgate_potential - par.v_bg) / eta \n",
    "    # site.family in (a1, b1)\n",
    "    if (site.family == a1 or site.family == b1):\n",
    "        return - mu - delta \n",
    "    return -mu + delta\n",
    "\n",
    "def onsite_lead(site, par):     \n",
    "    topgate_potential = par.v_lead\n",
    "    mu = (par.v_bg + topgate_potential) / 2\n",
    "    delta = - ( topgate_potential - par.v_bg) / eta\n",
    "    if site.family == a1 or site.family == b1:\n",
    "        return - mu - delta\n",
    "    return -mu  + delta\n",
    "\n",
    "\n",
    "def geomShape(pos):\n",
    "    #x, y = pos\n",
    "    if pos[0] < 0 or pos[1] < 0:\n",
    "        return False\n",
    "    try:\n",
    "        # rather round()?\n",
    "        return scattering_region[int(pos[0] / a), int(pos[1] / a)]\n",
    "    except IndexError:\n",
    "        return False\n",
    "\n",
    "def hop_intra_layer(site1, site2, par): \n",
    "    xt, yt = site1.pos \n",
    "    xs, ys = site2.pos\n",
    "    return -par.t * np.exp(-0.5j * np.pi * par.B  * (xt - xs) * (yt + ys))\n",
    "\n",
    "def hop_inter_layer(site1, site2, par): \n",
    "    return -par.gamma1 \n",
    "\n",
    "def hop_intra_layer_lead(site1, site2, par): \n",
    "    return -par.t \n",
    "\n",
    "def hop_inter_layer_lead(site1, site2, par): \n",
    "    return -par.gamma1 \n",
    "\n",
    "def leadShape1(pos):\n",
    "    y = pos[1]\n",
    "    if y < 0:\n",
    "        return False\n",
    "    try:\n",
    "        return scattering_region[0, int(y / a)]\n",
    "    except IndexError:\n",
    "        return False\n",
    "    \n",
    "def leadShape2(pos):\n",
    "    y = pos[1]\n",
    "    if y < 0:\n",
    "        return False\n",
    "    try:\n",
    "        return scattering_region[-1, int(y / a)]\n",
    "    except IndexError:\n",
    "        return False\n",
    "\n",
    "def trs(m):\n",
    "    return m.conj()\n",
    "\n",
    "class TRIInfiniteSystem(kwant.builder.InfiniteSystem):\n",
    "    def __init__(self, lead, trs):\n",
    "        \"\"\"A lead with time reversal invariant modes.\"\"\"\n",
    "        self.__dict__ = lead.__dict__\n",
    "        self.trs = trs\n",
    "\n",
    "    def modes(self, energy=0, args=()):\n",
    "        prop_modes, stab_modes = super(TRIInfiniteSystem, self).modes(energy=energy, args=args)\n",
    "        n = stab_modes.nmodes\n",
    "        stab_modes.vecs[:, n:(2*n)] = self.trs(stab_modes.vecs[:, :n])\n",
    "        stab_modes.vecslmbdainv[:, n:(2*n)] =  self.trs(stab_modes.vecslmbdainv[:, :n])\n",
    "        prop_modes.wave_functions[:, n:] = self.trs(prop_modes.wave_functions[:, :n])\n",
    "        return prop_modes, stab_modes\n",
    "\n"
   ]
  },
  {
   "cell_type": "code",
   "execution_count": 10,
   "metadata": {
    "collapsed": true
   },
   "outputs": [],
   "source": [
    "def make_system():\n",
    "    system = kwant.Builder()\n",
    "    scat_width = scattering_region.shape[0]\n",
    "    scat_length = scattering_region.shape[1]\n",
    "\n",
    "    system[bilayer.shape(geomShape, (0.5*a*scat_width, 0.5*a*scat_length))] = onsite \n",
    "    system[[kwant.builder.HoppingKind(*hopping) for hopping in hoppings1]] = hop_intra_layer\n",
    "    system[[kwant.builder.HoppingKind(*hopping) for hopping in hoppings2]] = hop_intra_layer\n",
    "    system[kwant.builder.HoppingKind((0, 0), a1, b2) ] = hop_inter_layer    \n",
    "\n",
    "    trans_sym_1 = kwant.TranslationalSymmetry(bilayer.vec((-2, 1)))\n",
    "    lead_1 = kwant.Builder(trans_sym_1)\n",
    "    lead_1[bilayer.shape(leadShape1, (0, 0.5*a*scat_length))] = onsite_lead\n",
    "    lead_1[[kwant.builder.HoppingKind(*hopping) for hopping in hoppings1]] = hop_intra_layer_lead\n",
    "    lead_1[[kwant.builder.HoppingKind(*hopping) for hopping in hoppings2]] = hop_intra_layer_lead\n",
    "    lead_1[kwant.builder.HoppingKind((0, 0), a1, b2)] = hop_inter_layer_lead\n",
    "\n",
    "    trans_sym_2 = kwant.TranslationalSymmetry(bilayer.vec((2, -1))) #?\n",
    "    lead_2 = kwant.Builder(trans_sym_2)\n",
    "    lead_2[bilayer.shape(leadShape2, (0, 0.5*a*scat_length))] = onsite_lead\n",
    "    lead_2[[kwant.builder.HoppingKind(*hopping) for hopping in hoppings1]] = hop_intra_layer_lead\n",
    "    lead_2[[kwant.builder.HoppingKind(*hopping) for hopping in hoppings2]] = hop_intra_layer_lead\n",
    "    lead_2[kwant.builder.HoppingKind((0, 0), a1, b2)] = hop_inter_layer_lead\n",
    "     \n",
    "    system.attach_lead(lead_1)\n",
    "    system.attach_lead(lead_2)\n",
    "    system = system.finalized()\n",
    "    system.leads = [TRIInfiniteSystem(lead, trs) for lead in system.leads]\n",
    "    \n",
    "    return(system)\n",
    "\n",
    "def super_current(scat_matrix, phi):\n",
    "    nb_modes = [len(leadInfo.momenta) for leadInfo in scat_matrix.lead_info]\n",
    "    scat_data = scat_matrix.data\n",
    "    \n",
    "    dim1 = int(nb_modes[0]/2)\n",
    "    dim2 = int(nb_modes[1]/2)\n",
    "    \n",
    "    r_a11 = 1j*np.eye(dim1)\n",
    "    r_a12 = np.zeros((dim1, dim2))\n",
    "    r_a21 = r_a12.T\n",
    "    r_a22 = 1j*np.exp(- 1j * phi) * np.eye(dim2)\n",
    "    r_a = np.bmat([[r_a11, r_a12], [r_a21, r_a22]])\n",
    "    \n",
    "    A = (r_a.dot(scat_data) + (scat_data.T).dot(r_a)) / 2\n",
    "    \n",
    "    dr_a11 = np.zeros((dim1, dim1))\n",
    "    dr_a12 = np.zeros((dim1, dim2))\n",
    "    dr_a21 = dr_a12.T\n",
    "    dr_a22 = np.exp(- 1j * phi) * np.eye(dim2)\n",
    "    dr_a = np.bmat([[dr_a11, dr_a12], [dr_a21, dr_a22]])\n",
    "\n",
    "    dA = (dr_a.dot(scat_data) + (scat_data.T).dot(dr_a)) / 2\n",
    "    \n",
    "    dA_total = np.array((dA.T.conj()).dot(A) + (A.T.conj()).dot(dA))\n",
    "    \n",
    "    eigenval, eigenvec = la.eigh(A.T.conj().dot(A))\n",
    "    \n",
    "    final_eigenval = delta * eigenval ** 0.5 \n",
    "    final_eigenvec = eigenvec.T\n",
    "    \n",
    "    current_complex =  np.sum(\n",
    "        (vec.T.conj().dot(dA_total.dot(vec)) * np.tanh(val/T)/val)\n",
    "        for val, vec in zip(final_eigenval, final_eigenvec)\n",
    "    )\n",
    "    imag = 0.5 * delta**2 * np.imag(current_complex)\n",
    "    real = 0.5 * delta**2 * np.real(current_complex)\n",
    "    absval = 0.5 * delta**2 * np.abs(current_complex)\n",
    "    #return((absval, real, imag))\n",
    "    return(absval)\n"
   ]
  },
  {
   "cell_type": "code",
   "execution_count": 11,
   "metadata": {
    "collapsed": true
   },
   "outputs": [],
   "source": [
    "def find_max(func, phase_min, phase_max):\n",
    "    current = [func(phi) for phi in np.linspace(phase_min, phase_max)]\n",
    "    currentPeak = max(current)\n",
    "    return(currentPeak)\n",
    "\n",
    "def max_current(system, params):\n",
    "    pos, par = params\n",
    "    scat_matrix = kwant.smatrix(system, energy=0.0, args=[par])\n",
    "    func = partial(super_current, scat_matrix)\n",
    "    currentPeak = find_max(func, phase[0], phase[-1])\n",
    "    return((pos, currentPeak))\n",
    "\n",
    "def plot_current(b_field, v_values, current, filename):\n",
    "    y, x = np.meshgrid(b_field, v_values)\n",
    "    plt.pcolor(x, y, current)\n",
    "    cb = plt.colorbar()\n",
    "    cb.set_label(r'$I_c$')\n",
    "    plt.ylabel(r'$\\varphi_{SG}$', fontsize=14)\n",
    "    plt.xlabel(r'$B$', fontsize=14)\n",
    "    plt.savefig(filename)\n",
    "    return\n",
    "\n",
    "def worker(system, param_queue, result_queue):\n",
    "    try:\n",
    "        while True:\n",
    "            params = param_queue.get(block=False)\n",
    "            result = max_current(system, params)\n",
    "            result_queue.put(result)\n",
    "            param_queue.task_done()\n",
    "    except queue.Empty:\n",
    "        pass\n",
    "\n"
   ]
  },
  {
   "cell_type": "code",
   "execution_count": 18,
   "metadata": {},
   "outputs": [],
   "source": [
    "system = make_system()"
   ]
  },
  {
   "cell_type": "code",
   "execution_count": 22,
   "metadata": {},
   "outputs": [],
   "source": [
    "runtime = datetime.strftime(datetime.today(), '%Y%m%d-%H:%M:%S')\n",
    "system_params_names = ['vbg', 'vlead', 'maxB', 'nb_points', \n",
    "                        'maxVsg', 'minVsg', 'nb_points_vsg', 'decay', \n",
    "                        'eta', 'gamma', 'a', 'at', 'delta', 'T', ]\n",
    "system_params = [str(vbg), str(vlead), str(maxB), str(nb_points), \n",
    "                str(vsg_values[-1]), str(vsg_values[0]), str(len(vsg_values)), str(pot_decay), \n",
    "                str(eta), str(gamma), str(a), str(at), str(delta), str(T), ]\n",
    "newpath = path + 'vbg=' + str(vbg) + '-' +  runtime + '/'\n",
    "if not os.path.exists(newpath):\n",
    "    os.makedirs(newpath)\n",
    "system_params_file = newpath + 'params.txt'\n",
    "with open(system_params_file, 'w' ) as paramfile:\n",
    "    for name, value in zip(system_params_names, system_params):\n",
    "        paramfile.write(name + \", \" + value + '\\n')\n",
    "\n",
    "\n",
    "\n"
   ]
  },
  {
   "cell_type": "code",
   "execution_count": 23,
   "metadata": {},
   "outputs": [
    {
     "name": "stderr",
     "output_type": "stream",
     "text": [
      "Process Process-11:\n",
      "Traceback (most recent call last):\n",
      "  File \"/usr/lib64/python3.5/multiprocessing/process.py\", line 249, in _bootstrap\n",
      "    self.run()\n",
      "  File \"/usr/lib64/python3.5/multiprocessing/process.py\", line 93, in run\n",
      "    self._target(*self._args, **self._kwargs)\n",
      "  File \"<ipython-input-11-8de949767343>\", line 27, in worker\n",
      "    result = max_current(system, params)\n",
      "  File \"<ipython-input-11-8de949767343>\", line 8, in max_current\n",
      "    scat_matrix = kwant.smatrix(system, energy=0.0, args=[par])\n",
      "  File \"/home/nefta/git/kwant/kwant/solvers/common.py\", line 350, in smatrix\n",
      "    check_hermiticity, False)\n",
      "  File \"/home/nefta/git/kwant/kwant/solvers/common.py\", line 179, in _make_linear_sys\n",
      "    prop, stab = lead.modes(energy, args)\n",
      "  File \"<ipython-input-9-299ba87b739d>\", line 78, in modes\n",
      "    prop_modes, stab_modes =             super(TRIInfiniteSystem, self).modes(energy=energy, args=args)\n",
      "TypeError: super(type, obj): obj must be an instance or subtype of type\n",
      "Process Process-10:\n",
      "Traceback (most recent call last):\n",
      "  File \"/usr/lib64/python3.5/multiprocessing/process.py\", line 249, in _bootstrap\n",
      "    self.run()\n",
      "  File \"/usr/lib64/python3.5/multiprocessing/process.py\", line 93, in run\n",
      "    self._target(*self._args, **self._kwargs)\n",
      "  File \"<ipython-input-11-8de949767343>\", line 27, in worker\n",
      "    result = max_current(system, params)\n",
      "Process Process-12:\n",
      "  File \"<ipython-input-11-8de949767343>\", line 8, in max_current\n",
      "    scat_matrix = kwant.smatrix(system, energy=0.0, args=[par])\n",
      "Traceback (most recent call last):\n",
      "  File \"/usr/lib64/python3.5/multiprocessing/process.py\", line 249, in _bootstrap\n",
      "    self.run()\n",
      "  File \"/home/nefta/git/kwant/kwant/solvers/common.py\", line 350, in smatrix\n",
      "    check_hermiticity, False)\n",
      "  File \"/usr/lib64/python3.5/multiprocessing/process.py\", line 93, in run\n",
      "    self._target(*self._args, **self._kwargs)\n",
      "  File \"/home/nefta/git/kwant/kwant/solvers/common.py\", line 179, in _make_linear_sys\n",
      "    prop, stab = lead.modes(energy, args)\n",
      "  File \"<ipython-input-11-8de949767343>\", line 27, in worker\n",
      "    result = max_current(system, params)\n",
      "  File \"<ipython-input-9-299ba87b739d>\", line 78, in modes\n",
      "    prop_modes, stab_modes =             super(TRIInfiniteSystem, self).modes(energy=energy, args=args)\n",
      "TypeError: super(type, obj): obj must be an instance or subtype of type\n",
      "  File \"<ipython-input-11-8de949767343>\", line 8, in max_current\n",
      "    scat_matrix = kwant.smatrix(system, energy=0.0, args=[par])\n",
      "  File \"/home/nefta/git/kwant/kwant/solvers/common.py\", line 350, in smatrix\n",
      "    check_hermiticity, False)\n",
      "  File \"/home/nefta/git/kwant/kwant/solvers/common.py\", line 179, in _make_linear_sys\n",
      "    prop, stab = lead.modes(energy, args)\n",
      "  File \"<ipython-input-9-299ba87b739d>\", line 78, in modes\n",
      "    prop_modes, stab_modes =             super(TRIInfiniteSystem, self).modes(energy=energy, args=args)\n",
      "TypeError: super(type, obj): obj must be an instance or subtype of type\n",
      "Process Process-9:\n",
      "Traceback (most recent call last):\n",
      "  File \"/usr/lib64/python3.5/multiprocessing/process.py\", line 249, in _bootstrap\n",
      "    self.run()\n",
      "  File \"/usr/lib64/python3.5/multiprocessing/process.py\", line 93, in run\n",
      "    self._target(*self._args, **self._kwargs)\n",
      "  File \"<ipython-input-11-8de949767343>\", line 27, in worker\n",
      "    result = max_current(system, params)\n",
      "  File \"<ipython-input-11-8de949767343>\", line 8, in max_current\n",
      "    scat_matrix = kwant.smatrix(system, energy=0.0, args=[par])\n",
      "  File \"/home/nefta/git/kwant/kwant/solvers/common.py\", line 350, in smatrix\n",
      "    check_hermiticity, False)\n",
      "  File \"/home/nefta/git/kwant/kwant/solvers/common.py\", line 179, in _make_linear_sys\n",
      "    prop, stab = lead.modes(energy, args)\n",
      "  File \"<ipython-input-9-299ba87b739d>\", line 78, in modes\n",
      "    prop_modes, stab_modes =             super(TRIInfiniteSystem, self).modes(energy=energy, args=args)\n",
      "TypeError: super(type, obj): obj must be an instance or subtype of type\n"
     ]
    },
    {
     "ename": "KeyboardInterrupt",
     "evalue": "",
     "output_type": "error",
     "traceback": [
      "\u001b[0;31m---------------------------------------------------------------------------\u001b[0m",
      "\u001b[0;31mKeyboardInterrupt\u001b[0m                         Traceback (most recent call last)",
      "\u001b[0;32m<ipython-input-23-cd09be1ea348>\u001b[0m in \u001b[0;36m<module>\u001b[0;34m()\u001b[0m\n\u001b[1;32m     14\u001b[0m \u001b[0;32mfor\u001b[0m \u001b[0mp\u001b[0m \u001b[0;32min\u001b[0m \u001b[0mprocesses\u001b[0m\u001b[0;34m:\u001b[0m\u001b[0;34m\u001b[0m\u001b[0m\n\u001b[1;32m     15\u001b[0m     \u001b[0mp\u001b[0m\u001b[0;34m.\u001b[0m\u001b[0mstart\u001b[0m\u001b[0;34m(\u001b[0m\u001b[0;34m)\u001b[0m\u001b[0;34m\u001b[0m\u001b[0m\n\u001b[0;32m---> 16\u001b[0;31m \u001b[0mparam_queue\u001b[0m\u001b[0;34m.\u001b[0m\u001b[0mjoin\u001b[0m\u001b[0;34m(\u001b[0m\u001b[0;34m)\u001b[0m\u001b[0;34m\u001b[0m\u001b[0m\n\u001b[0m\u001b[1;32m     17\u001b[0m \u001b[0mresults\u001b[0m \u001b[0;34m=\u001b[0m \u001b[0;34m[\u001b[0m\u001b[0;34m]\u001b[0m\u001b[0;34m\u001b[0m\u001b[0m\n\u001b[1;32m     18\u001b[0m \u001b[0;32mtry\u001b[0m\u001b[0;34m:\u001b[0m\u001b[0;34m\u001b[0m\u001b[0m\n",
      "\u001b[0;32m/usr/lib64/python3.5/multiprocessing/queues.py\u001b[0m in \u001b[0;36mjoin\u001b[0;34m(self)\u001b[0m\n\u001b[1;32m    312\u001b[0m         \u001b[0;32mwith\u001b[0m \u001b[0mself\u001b[0m\u001b[0;34m.\u001b[0m\u001b[0m_cond\u001b[0m\u001b[0;34m:\u001b[0m\u001b[0;34m\u001b[0m\u001b[0m\n\u001b[1;32m    313\u001b[0m             \u001b[0;32mif\u001b[0m \u001b[0;32mnot\u001b[0m \u001b[0mself\u001b[0m\u001b[0;34m.\u001b[0m\u001b[0m_unfinished_tasks\u001b[0m\u001b[0;34m.\u001b[0m\u001b[0m_semlock\u001b[0m\u001b[0;34m.\u001b[0m\u001b[0m_is_zero\u001b[0m\u001b[0;34m(\u001b[0m\u001b[0;34m)\u001b[0m\u001b[0;34m:\u001b[0m\u001b[0;34m\u001b[0m\u001b[0m\n\u001b[0;32m--> 314\u001b[0;31m                 \u001b[0mself\u001b[0m\u001b[0;34m.\u001b[0m\u001b[0m_cond\u001b[0m\u001b[0;34m.\u001b[0m\u001b[0mwait\u001b[0m\u001b[0;34m(\u001b[0m\u001b[0;34m)\u001b[0m\u001b[0;34m\u001b[0m\u001b[0m\n\u001b[0m\u001b[1;32m    315\u001b[0m \u001b[0;34m\u001b[0m\u001b[0m\n\u001b[1;32m    316\u001b[0m \u001b[0;31m#\u001b[0m\u001b[0;34m\u001b[0m\u001b[0;34m\u001b[0m\u001b[0m\n",
      "\u001b[0;32m/usr/lib64/python3.5/multiprocessing/synchronize.py\u001b[0m in \u001b[0;36mwait\u001b[0;34m(self, timeout)\u001b[0m\n\u001b[1;32m    260\u001b[0m         \u001b[0;32mtry\u001b[0m\u001b[0;34m:\u001b[0m\u001b[0;34m\u001b[0m\u001b[0m\n\u001b[1;32m    261\u001b[0m             \u001b[0;31m# wait for notification or timeout\u001b[0m\u001b[0;34m\u001b[0m\u001b[0;34m\u001b[0m\u001b[0m\n\u001b[0;32m--> 262\u001b[0;31m             \u001b[0;32mreturn\u001b[0m \u001b[0mself\u001b[0m\u001b[0;34m.\u001b[0m\u001b[0m_wait_semaphore\u001b[0m\u001b[0;34m.\u001b[0m\u001b[0macquire\u001b[0m\u001b[0;34m(\u001b[0m\u001b[0;32mTrue\u001b[0m\u001b[0;34m,\u001b[0m \u001b[0mtimeout\u001b[0m\u001b[0;34m)\u001b[0m\u001b[0;34m\u001b[0m\u001b[0m\n\u001b[0m\u001b[1;32m    263\u001b[0m         \u001b[0;32mfinally\u001b[0m\u001b[0;34m:\u001b[0m\u001b[0;34m\u001b[0m\u001b[0m\n\u001b[1;32m    264\u001b[0m             \u001b[0;31m# indicate that this thread has woken\u001b[0m\u001b[0;34m\u001b[0m\u001b[0;34m\u001b[0m\u001b[0m\n",
      "\u001b[0;31mKeyboardInterrupt\u001b[0m: "
     ]
    }
   ],
   "source": [
    "param_queue = mp.JoinableQueue()\n",
    "result_queue = mp.JoinableQueue() \n",
    "namespace_args = []\n",
    "\n",
    "for i, b in enumerate(magnetic_field):\n",
    "    for j, vsg in enumerate(vsg_values):\n",
    "        namespace_args.append(((i, j),  SimpleNamespace(v_sg=vsg, v_bg=vbg, v_lead=vlead, t=1, gamma1=gamma, B=b)))\n",
    "for arg in namespace_args:\n",
    "    param_queue.put(arg)\n",
    "\n",
    "timestamp = datetime.now()\n",
    "nb_cores = mp.cpu_count()\n",
    "processes = [mp.Process(target=worker, args=(system, param_queue, result_queue)) for i in range(nb_cores)]\n",
    "for p in processes:\n",
    "    p.start()\n",
    "param_queue.join()\n",
    "results = []\n",
    "try:\n",
    "    while True:\n",
    "        results.append(result_queue.get(block=False))\n",
    "except queue.Empty:\n",
    "    pass\n",
    "print('time for calculation with multiprocessing: ', datetime.now() - timestamp)    \n",
    "\n"
   ]
  },
  {
   "cell_type": "code",
   "execution_count": null,
   "metadata": {
    "collapsed": true
   },
   "outputs": [],
   "source": [
    "sorted_results = sorted(results, key=lambda value: value[0])\n",
    "unzipped = list(zip(*sorted_results))\n",
    "current_values = np.split(np.asarray(unzipped[1]), len(vsg_values))\n",
    "\n",
    "filename = newpath + 'data.csv' \n",
    "with open(filename, 'w') as csvfile:\n",
    "    writer = csv.writer(csvfile, delimiter=',')\n",
    "    for row in current_values:\n",
    "        writer.writerow(list(row))\n",
    "pngfile = newpath + 'v_sg=' + str(vsg) + '.png'\n",
    "plot_current(magnetic_field, vsg_values, np.asarray(current_values), pngfile)\n",
    "print('output in', filename)"
   ]
  }
 ],
 "metadata": {
  "kernelspec": {
   "display_name": "Python 3",
   "language": "python",
   "name": "python3"
  },
  "language_info": {
   "codemirror_mode": {
    "name": "ipython",
    "version": 3
   },
   "file_extension": ".py",
   "mimetype": "text/x-python",
   "name": "python",
   "nbconvert_exporter": "python",
   "pygments_lexer": "ipython3",
   "version": "3.5.3"
  }
 },
 "nbformat": 4,
 "nbformat_minor": 2
}
