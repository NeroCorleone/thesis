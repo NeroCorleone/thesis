{
 "cells": [
  {
   "cell_type": "code",
   "execution_count": null,
   "metadata": {
    "collapsed": true
   },
   "outputs": [],
   "source": [
    "def current_density_to_interference_pattern(x,J):\n",
    "    \"\"\"Fourier transform: J(x) -> Ic(B)\n",
    "    x (type list): x-position\n",
    "    J (type list with tuples as elements): [(Jreal(x), Jimag(x)),...]\n",
    "    Return: Ic(B) - complex critical current\n",
    "            type np.array with cols [B, Ic_real, Ic_imag, Ic_abs]\"\"\"\n",
    "    \n",
    "    import numpy as np\n",
    "    from math import sqrt, sin, cos, pi \n",
    "    \n",
    "    L = 1.0e-6\n",
    "    omega = 2*pi*L/phi0\n",
    "    dx = x[1]-x[0]\n",
    "\n",
    "    Ic = []\n",
    "    for B in np.linspace(-8e-3, 8e-3, 801):\n",
    "        \n",
    "        Ic_real = 0\n",
    "        Ic_imag = 0\n",
    "        for k in range(len(x)):\n",
    "            xk = x[k]\n",
    "            J_real = J[k][0]\n",
    "            J_imag = J[k][1]\n",
    "            Ic_real += (J_real*cos(omega*B*xk)+J_imag*sin(omega*B*xk))*dx\n",
    "            Ic_imag += (J_imag*cos(omega*B*xk)-J_real*sin(omega*B*xk))*dx\n",
    "        Ic_abs = sqrt(Ic_real**2+Ic_imag**2)\n",
    "        Ic += [[B, Ic_real, Ic_imag, Ic_abs]]\n",
    "    return np.array(Ic)"
   ]
  }
 ],
 "metadata": {
  "kernelspec": {
   "display_name": "Python 3",
   "language": "python",
   "name": "python3"
  },
  "language_info": {
   "codemirror_mode": {
    "name": "ipython",
    "version": 3
   },
   "file_extension": ".py",
   "mimetype": "text/x-python",
   "name": "python",
   "nbconvert_exporter": "python",
   "pygments_lexer": "ipython3",
   "version": "3.5.3"
  }
 },
 "nbformat": 4,
 "nbformat_minor": 2
}
