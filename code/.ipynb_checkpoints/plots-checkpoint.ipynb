{
 "cells": [
  {
   "cell_type": "code",
   "execution_count": 1,
   "metadata": {
    "collapsed": true
   },
   "outputs": [],
   "source": [
    "import matplotlib.pyplot as plt\n",
    "import numpy as np\n",
    "import csv\n",
    "%matplotlib inline"
   ]
  },
  {
   "cell_type": "code",
   "execution_count": 2,
   "metadata": {
    "collapsed": true
   },
   "outputs": [],
   "source": [
    "def readValues(filename):\n",
    "    values = []\n",
    "    with open(filename) as csvfile:\n",
    "        #next(csvfile) #skip header\n",
    "        reader = csv.reader(csvfile, delimiter=' ')\n",
    "        for row in reader:\n",
    "            values = [float(element) for element in row]\n",
    "    return(values)"
   ]
  },
  {
   "cell_type": "code",
   "execution_count": 3,
   "metadata": {
    "collapsed": true
   },
   "outputs": [],
   "source": [
    "def readValues_modified(filename):\n",
    "    values = []\n",
    "    with open(filename) as csvfile:\n",
    "        #next(csvfile) #skip header\n",
    "        reader = csv.reader(csvfile, delimiter=' ')\n",
    "        for element in reader:\n",
    "            values.append(float(element[0]))\n",
    "    return(values)"
   ]
  },
  {
   "cell_type": "code",
   "execution_count": null,
   "metadata": {
    "collapsed": true
   },
   "outputs": [],
   "source": [
    "mainpath = '/users/tkm/kanilmaz/thesis/results/long82/conductance/'\n",
    "mainpath + 'v'"
   ]
  }
 ],
 "metadata": {
  "kernelspec": {
   "display_name": "Python 3",
   "language": "python",
   "name": "python3"
  },
  "language_info": {
   "codemirror_mode": {
    "name": "ipython",
    "version": 3
   },
   "file_extension": ".py",
   "mimetype": "text/x-python",
   "name": "python",
   "nbconvert_exporter": "python",
   "pygments_lexer": "ipython3",
   "version": "3.4.2"
  }
 },
 "nbformat": 4,
 "nbformat_minor": 2
}
