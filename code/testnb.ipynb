{
 "cells": [
  {
   "cell_type": "code",
   "execution_count": 1,
   "metadata": {
    "collapsed": true
   },
   "outputs": [],
   "source": [
    "import numpy as np"
   ]
  },
  {
   "cell_type": "code",
   "execution_count": 37,
   "metadata": {
    "collapsed": true
   },
   "outputs": [],
   "source": [
    "magnetic_field = [i for i in range(0, 5)]\n",
    "vsg_values = [j for j in range(0, 3)]"
   ]
  },
  {
   "cell_type": "code",
   "execution_count": 40,
   "metadata": {
    "collapsed": true
   },
   "outputs": [],
   "source": [
    "results = []\n",
    "for vval in vsg_values:\n",
    "    for bval in magnetic_field:\n",
    "        results.append(vval*bval)\n"
   ]
  },
  {
   "cell_type": "code",
   "execution_count": 41,
   "metadata": {},
   "outputs": [
    {
     "data": {
      "text/plain": [
       "[0, 0, 0, 0, 0, 0, 1, 2, 3, 4, 0, 2, 4, 6, 8]"
      ]
     },
     "execution_count": 41,
     "metadata": {},
     "output_type": "execute_result"
    }
   ],
   "source": [
    "results\n"
   ]
  },
  {
   "cell_type": "code",
   "execution_count": 43,
   "metadata": {},
   "outputs": [],
   "source": [
    "#sorted_results = sorted(results, key=lambda x: x[0][1])\n",
    "#unzipped = list(zip(*sorted_results))"
   ]
  },
  {
   "cell_type": "code",
   "execution_count": 44,
   "metadata": {},
   "outputs": [],
   "source": [
    "current_values = np.split(np.asarray(results), len(vsg_values))"
   ]
  },
  {
   "cell_type": "code",
   "execution_count": 45,
   "metadata": {},
   "outputs": [
    {
     "data": {
      "text/plain": [
       "[array([0, 0, 0, 0, 0]), array([0, 1, 2, 3, 4]), array([0, 2, 4, 6, 8])]"
      ]
     },
     "execution_count": 45,
     "metadata": {},
     "output_type": "execute_result"
    }
   ],
   "source": [
    "current_values"
   ]
  },
  {
   "cell_type": "code",
   "execution_count": 62,
   "metadata": {
    "collapsed": true
   },
   "outputs": [],
   "source": [
    "import matplotlib.pyplot as plt\n",
    "import matplotlib as mpl\n",
    "%matplotlib inline"
   ]
  },
  {
   "cell_type": "code",
   "execution_count": 70,
   "metadata": {},
   "outputs": [
    {
     "data": {
      "text/plain": [
       "[array([0, 0, 0, 0, 0]), array([0, 1, 2, 3, 4]), array([0, 2, 4, 6, 8])]"
      ]
     },
     "execution_count": 70,
     "metadata": {},
     "output_type": "execute_result"
    }
   ],
   "source": [
    "current_values"
   ]
  },
  {
   "cell_type": "code",
   "execution_count": 83,
   "metadata": {},
   "outputs": [
    {
     "data": {
      "image/png": "[encoded data removed]",
      "text/plain": [
       "<matplotlib.figure.Figure at 0x7fb05e818828>"
      ]
     },
     "metadata": {},
     "output_type": "display_data"
    }
   ],
   "source": [
    "fig, ax = plt.subplots(figsize=(16, 9))\n",
    "ax.set_xlabel('B',  fontsize=18)\n",
    "ax.set_ylabel(r'$\\varphi_{SG}$', fontsize=18)\n",
    "cax = ax.imshow(np.asarray(current_values), cmap='viridis')\n",
    "cbar = fig.colorbar(cax)\n",
    "#cbar.ax.set_yticklabels(['< -1', '0', '> 1'])\n",
    "cbar.set_label(r'$I_c$', fontsize=18)\n",
    "fig.savefig('test.png')"
   ]
  },
  {
   "cell_type": "code",
   "execution_count": 66,
   "metadata": {},
   "outputs": [
    {
     "data": {
      "text/plain": [
       "<matplotlib.text.Text at 0x7fb05f00e9b0>"
      ]
     },
     "execution_count": 66,
     "metadata": {},
     "output_type": "execute_result"
    },
    {
     "data": {
      "image/png": "[encoded data removed]",
      "text/plain": [
       "<matplotlib.figure.Figure at 0x7fb05f0a7198>"
      ]
     },
     "metadata": {},
     "output_type": "display_data"
    }
   ],
   "source": [
    "fig, ax = plt.subplots(figsize=(16, 9))\n",
    "x, y = np.meshgrid(magnetic_field, vsg_values)\n",
    "ax.pcolor(x, y, current_values)\n",
    "#cb = plt.colorbar(ax)\n",
    "#cb.set_label('I')\n",
    "ax.set_xlabel('B')\n",
    "ax.set_ylabel('Vsg')\n"
   ]
  },
  {
   "cell_type": "code",
   "execution_count": 49,
   "metadata": {},
   "outputs": [
    {
     "data": {
      "text/plain": [
       "(array([[0, 1, 2],\n",
       "        [0, 1, 2],\n",
       "        [0, 1, 2],\n",
       "        [0, 1, 2],\n",
       "        [0, 1, 2]]), array([[0, 0, 0],\n",
       "        [1, 1, 1],\n",
       "        [2, 2, 2],\n",
       "        [3, 3, 3],\n",
       "        [4, 4, 4]]))"
      ]
     },
     "execution_count": 49,
     "metadata": {},
     "output_type": "execute_result"
    }
   ],
   "source": [
    "x, y"
   ]
  },
  {
   "cell_type": "code",
   "execution_count": 32,
   "metadata": {},
   "outputs": [],
   "source": [
    "import csv\n",
    "\n",
    "with open('data.csv', 'w') as csvfile:\n",
    "    writer = csv.writer(csvfile, delimiter=' ')\n",
    "    for row in current_values:\n",
    "        writer.writerow(row)"
   ]
  },
  {
   "cell_type": "code",
   "execution_count": 86,
   "metadata": {},
   "outputs": [],
   "source": [
    "testlist = [[7.15482052e-02,   7.15482052e-02,   7.32849107e-17], \n",
    " [  1.33072475e-01,  -1.33072475e-01,   7.02096329e-17],\n",
    " [  1.15246715e+00,  -1.15246715e+00,   1.29178788e-16],\n",
    " [  2.72174485e-01,  -2.72174485e-01,   5.51855207e-17],\n",
    " [  2.68887852e-01,   2.68887852e-01,   8.79216331e-17],\n",
    " [  3.76044311e-02,   3.76044311e-02,   6.03578081e-17],\n",
    " [  9.38745843e-01,   9.38745843e-01,   8.68617437e-17],\n",
    " [  1.62699915e-01,   1.62699915e-01,   7.94763170e-17],\n",
    " [  1.18999137e-01,  -1.18999137e-01,   9.55390495e-17],\n",
    " [  3.16575937e-01,   3.16575937e-01,   7.38001974e-17]]\n"
   ]
  },
  {
   "cell_type": "code",
   "execution_count": 89,
   "metadata": {},
   "outputs": [
    {
     "data": {
      "text/plain": [
       "array([ 0.07154821,  0.13307247,  1.15246715,  0.27217449,  0.26888785,\n",
       "        0.03760443,  0.93874584,  0.16269992,  0.11899914,  0.31657594])"
      ]
     },
     "execution_count": 89,
     "metadata": {},
     "output_type": "execute_result"
    }
   ],
   "source": [
    "np.asarray(testlist).T[0]"
   ]
  },
  {
   "cell_type": "code",
   "execution_count": null,
   "metadata": {
    "collapsed": true
   },
   "outputs": [],
   "source": []
  }
 ],
 "metadata": {
  "kernelspec": {
   "display_name": "Python 3",
   "language": "python",
   "name": "python3"
  },
  "language_info": {
   "codemirror_mode": {
    "name": "ipython",
    "version": 3
   },
   "file_extension": ".py",
   "mimetype": "text/x-python",
   "name": "python",
   "nbconvert_exporter": "python",
   "pygments_lexer": "ipython3",
   "version": "3.5.3"
  }
 },
 "nbformat": 4,
 "nbformat_minor": 2
}
