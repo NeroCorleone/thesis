{
 "cells": [
  {
   "cell_type": "code",
   "execution_count": 26,
   "metadata": {
    "collapsed": true
   },
   "outputs": [],
   "source": [
    "import matplotlib.pyplot as plt\n",
    "#plt.style.use('fivethirtyeight')\n",
    "import numpy as np\n",
    "from scipy.signal import argrelmin\n",
    "%matplotlib inline\n",
    "import pandas as pd\n",
    "import os"
   ]
  },
  {
   "cell_type": "code",
   "execution_count": 160,
   "metadata": {
    "collapsed": true
   },
   "outputs": [],
   "source": [
    "directory = '/home/nefta/thesis/results/wg3_2/supercurrent/use/'\n",
    "#directory = '/home/nefta/thesis/results/hb/supercurrent/vsg=0.0-20171114-11:38:40/'\n",
    "#W = 918 \n",
    "#L = 204\n",
    "# w , l = a * np.shape(scattering_regsion)\n",
    "W = 360\n",
    "L = 100"
   ]
  },
  {
   "cell_type": "code",
   "execution_count": 161,
   "metadata": {
    "collapsed": true
   },
   "outputs": [],
   "source": [
    "vsg_values = [float(x[4:-18]) for x in list(os.walk(directory))[0][1]]\n",
    "vsg_dirs = dict(zip(vsg_values, list(os.walk(directory))[0][1]))"
   ]
  },
  {
   "cell_type": "code",
   "execution_count": 239,
   "metadata": {
    "collapsed": true
   },
   "outputs": [],
   "source": [
    "def flip_minima(abs_values, real_values, minima_order):\n",
    "    main_peak = np.argmax(abs_values) # index of main peak\n",
    "    left_min = [0]\n",
    "    right_min = [main_peak]\n",
    "    print(argrelmin(abs_values, order=20)[0])\n",
    "    \n",
    "    for loc_min in argrelmin(abs_values, order=minima_order)[0]:\n",
    "    #for loc_min in[  3, 334, 389, 610, 665, 996]:#[  3, 157, 334, 389, 610, 665, 842, 996]\n",
    "        if loc_min < main_peak:\n",
    "            left_min.append(loc_min)\n",
    "        else: right_min.append(loc_min)\n",
    "    left_min.append(main_peak)\n",
    "    right_min.append(len(abs_values))\n",
    "    left_min_rev = list(reversed(left_min))\n",
    "    \n",
    "    #print(left_min, right_min, left_min_rev)\n",
    "    osc = []\n",
    "    n = len(left_min)\n",
    "    for i in range(n - 1):\n",
    "        #print(n-i - 1, n-i-2)\n",
    "        for index in range(left_min_rev[n  - i - 1], left_min_rev[n - i - 2]):\n",
    "            #osc.append((-1)**(i+1) * abs(real_values[index]))\n",
    "            osc.append((-1)**(n - i) * abs(real_values[index]))\n",
    "    for i in range(n - 1):\n",
    "        #print(i, i+1)\n",
    "        for index in range(right_min[i], right_min[i+1]):\n",
    "            osc.append((-1)**i * abs(real_values[index]))\n",
    "    return(argrelmin(abs_values, order=minima_order), osc)"
   ]
  },
  {
   "cell_type": "code",
   "execution_count": 240,
   "metadata": {
    "collapsed": true
   },
   "outputs": [],
   "source": [
    "def transform_to_density(b_values, real, imag, y_values):\n",
    "    omega = 2 * np.pi / W\n",
    "    \n",
    "    phi_values = b_values * W * L \n",
    "    dPhi = phi_values[1] - phi_values[0]\n",
    "    maxPhi = phi_values[-1]\n",
    "    Jy_values = []\n",
    "    for y in y_values:\n",
    "        Jy_real = 0\n",
    "        Jy_imag = 0\n",
    "        for k, phi in list(enumerate(phi_values)):\n",
    "            Ic_real = real[k] #Fourier coefficient\n",
    "            Ic_imag = imag[k]\n",
    "            Jy_real += abs(np.cos(np.pi * phi / (2 * maxPhi)))**0.5 * (Ic_real * np.cos(omega * phi * y) - Ic_imag * np.sin(omega * phi * y)) * dPhi\n",
    "            Jy_imag += abs(np.cos(np.pi * phi / (2 * maxPhi)))**0.5 * (Ic_imag * np.cos(omega * phi * y) + Ic_real * np.sin(omega * phi * y)) * dPhi\n",
    "        Jy_abs = np.sqrt(Jy_real**2 + Jy_imag**2)\n",
    "        Jy_values.append(Jy_abs)\n",
    "    print(len(Jy_values))\n",
    "    return(Jy_values)"
   ]
  },
  {
   "cell_type": "code",
   "execution_count": 241,
   "metadata": {},
   "outputs": [
    {
     "data": {
      "text/plain": [
       "[-0.95,\n",
       " -0.9,\n",
       " -0.85,\n",
       " -0.8,\n",
       " -0.75,\n",
       " -0.75,\n",
       " -0.7,\n",
       " -0.7,\n",
       " -0.65,\n",
       " -0.65,\n",
       " -0.6,\n",
       " -0.55,\n",
       " -0.5,\n",
       " -0.45,\n",
       " -0.44,\n",
       " -0.43,\n",
       " -0.42,\n",
       " -0.41,\n",
       " -0.4,\n",
       " -0.39,\n",
       " -0.38,\n",
       " -0.37,\n",
       " -0.36,\n",
       " -0.35,\n",
       " -0.3,\n",
       " -0.25,\n",
       " -0.2,\n",
       " -0.15,\n",
       " -0.1]"
      ]
     },
     "execution_count": 241,
     "metadata": {},
     "output_type": "execute_result"
    }
   ],
   "source": [
    "sorted(vsg_values)"
   ]
  },
  {
   "cell_type": "code",
   "execution_count": 301,
   "metadata": {
    "collapsed": true
   },
   "outputs": [],
   "source": [
    "vsg_val = -0.95"
   ]
  },
  {
   "cell_type": "code",
   "execution_count": 302,
   "metadata": {},
   "outputs": [],
   "source": [
    "dirname = directory + vsg_dirs[vsg_val] + '/'\n",
    "absvalues, realvalues, imagvalues = pd.read_csv(dirname + 'data.csv', header=None).values.T"
   ]
  },
  {
   "cell_type": "code",
   "execution_count": 303,
   "metadata": {},
   "outputs": [
    {
     "name": "stdout",
     "output_type": "stream",
     "text": [
      "[]\n"
     ]
    }
   ],
   "source": [
    "minima, realpart_flipped = flip_minima(absvalues, realvalues, 15)"
   ]
  },
  {
   "cell_type": "code",
   "execution_count": 304,
   "metadata": {},
   "outputs": [
    {
     "data": {
      "text/plain": [
       "(array([], dtype=int64),)"
      ]
     },
     "execution_count": 304,
     "metadata": {},
     "output_type": "execute_result"
    }
   ],
   "source": [
    "minima"
   ]
  },
  {
   "cell_type": "code",
   "execution_count": 305,
   "metadata": {},
   "outputs": [
    {
     "data": {
      "text/plain": [
       "[<matplotlib.lines.Line2D at 0x7fc86868e198>]"
      ]
     },
     "execution_count": 305,
     "metadata": {},
     "output_type": "execute_result"
    },
    {
     "data": {
      "image/png": "[encoded data removed]",
      "text/plain": [
       "<matplotlib.figure.Figure at 0x7fc868290c50>"
      ]
     },
     "metadata": {},
     "output_type": "display_data"
    }
   ],
   "source": [
    "fig, ax = plt.subplots(figsize=(16,9))\n",
    "ax.plot(realvalues, linestyle='None', marker='.')\n",
    "ax.plot(realpart_flipped),\n",
    "ax.plot(abs(realvalues))"
   ]
  },
  {
   "cell_type": "code",
   "execution_count": 306,
   "metadata": {},
   "outputs": [
    {
     "name": "stdout",
     "output_type": "stream",
     "text": [
      "500\n"
     ]
    },
    {
     "data": {
      "image/png": "[encoded data removed]",
      "text/plain": [
       "<matplotlib.figure.Figure at 0x7fc8684d1d30>"
      ]
     },
     "metadata": {},
     "output_type": "display_data"
    }
   ],
   "source": [
    "maxB = 0.00015\n",
    "nb_points = 1000\n",
    "bvalues = np.linspace(-maxB, maxB, nb_points)\n",
    "#yvalues = np.linspace(-1.5*W, 1.5*W, 500)\n",
    "yvalues = np.linspace(-1.5*W, 1.5*W, 500)\n",
    "\n",
    "x = transform_to_density(bvalues, abs(realvalues), imagvalues, yvalues)\n",
    "\n",
    "fig, ax = plt.subplots()\n",
    "ax.plot(x)\n",
    "\n",
    "pd.DataFrame(x).to_csv(dirname+'fourier-data.csv', index=False)"
   ]
  },
  {
   "cell_type": "code",
   "execution_count": null,
   "metadata": {
    "collapsed": true
   },
   "outputs": [],
   "source": []
  }
 ],
 "metadata": {
  "kernelspec": {
   "display_name": "Python 3",
   "language": "python",
   "name": "python3"
  },
  "language_info": {
   "codemirror_mode": {
    "name": "ipython",
    "version": 3
   },
   "file_extension": ".py",
   "mimetype": "text/x-python",
   "name": "python",
   "nbconvert_exporter": "python",
   "pygments_lexer": "ipython3",
   "version": "3.5.3"
  }
 },
 "nbformat": 4,
 "nbformat_minor": 2
}
